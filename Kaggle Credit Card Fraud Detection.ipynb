{
  "cells": [
    {
      "cell_type": "code",
      "execution_count": null,
      "id": "67e473ac",
      "metadata": {
        "_cell_guid": "b1076dfc-b9ad-4769-8c92-a6c4dae69d19",
        "_uuid": "8f2839f25d086af736a60e9eeb907d3b93b6e0e5",
        "execution": {
          "iopub.execute_input": "2024-05-13T19:53:08.210744Z",
          "iopub.status.busy": "2024-05-13T19:53:08.210077Z",
          "iopub.status.idle": "2024-05-13T19:53:09.156394Z",
          "shell.execute_reply": "2024-05-13T19:53:09.155029Z"
        },
        "papermill": {
          "duration": 0.954564,
          "end_time": "2024-05-13T19:53:09.160004",
          "exception": false,
          "start_time": "2024-05-13T19:53:08.205440",
          "status": "completed"
        },
        "tags": [],
        "id": "67e473ac"
      },
      "outputs": [],
      "source": [
        "# This Python 3 environment comes with many helpful analytics libraries installed\n",
        "# It is defined by the kaggle/python Docker image: https://github.com/kaggle/docker-python\n",
        "# For example, here's several helpful packages to load\n",
        "\n",
        "import numpy as np # linear algebra\n",
        "import pandas as pd # data processing, CSV file I/O (e.g. pd.read_csv)\n",
        "\n",
        "# Input data files are available in the read-only \"../input/\" directory\n",
        "# For example, running this (by clicking run or pressing Shift+Enter) will list all files under the input directory\n",
        "\n",
        "import os\n",
        "for dirname, _, filenames in os.walk('/kaggle/input'):\n",
        "    for filename in filenames:\n",
        "        print(os.path.join(dirname, filename))\n",
        "\n",
        "# You can write up to 20GB to the current directory (/kaggle/working/) that gets preserved as output when you create a version using \"Save & Run All\"\n",
        "# You can also write temporary files to /kaggle/temp/, but they won't be saved outside of the current session"
      ]
    },
    {
      "cell_type": "code",
      "execution_count": null,
      "id": "61f0913e",
      "metadata": {
        "execution": {
          "iopub.execute_input": "2024-05-13T19:53:09.169196Z",
          "iopub.status.busy": "2024-05-13T19:53:09.168140Z",
          "iopub.status.idle": "2024-05-13T19:53:10.525530Z",
          "shell.execute_reply": "2024-05-13T19:53:10.524407Z"
        },
        "papermill": {
          "duration": 1.365535,
          "end_time": "2024-05-13T19:53:10.528694",
          "exception": false,
          "start_time": "2024-05-13T19:53:09.163159",
          "status": "completed"
        },
        "tags": [],
        "id": "61f0913e"
      },
      "outputs": [],
      "source": [
        "import seaborn as sns\n",
        "import matplotlib.pyplot as plt"
      ]
    },
    {
      "cell_type": "code",
      "execution_count": null,
      "id": "684afe1a",
      "metadata": {
        "execution": {
          "iopub.execute_input": "2024-05-13T19:53:10.536463Z",
          "iopub.status.busy": "2024-05-13T19:53:10.535999Z",
          "iopub.status.idle": "2024-05-13T19:53:14.494532Z",
          "shell.execute_reply": "2024-05-13T19:53:14.493003Z"
        },
        "papermill": {
          "duration": 3.965774,
          "end_time": "2024-05-13T19:53:14.497378",
          "exception": false,
          "start_time": "2024-05-13T19:53:10.531604",
          "status": "completed"
        },
        "tags": [],
        "id": "684afe1a"
      },
      "outputs": [],
      "source": [
        "# Load the dataset\n",
        "data = pd.read_csv('/kaggle/input/creditcardfraud/creditcard.csv')\n"
      ]
    },
    {
      "cell_type": "code",
      "execution_count": null,
      "id": "f360eebd",
      "metadata": {
        "execution": {
          "iopub.execute_input": "2024-05-13T19:53:14.504651Z",
          "iopub.status.busy": "2024-05-13T19:53:14.503714Z",
          "iopub.status.idle": "2024-05-13T19:53:14.618588Z",
          "shell.execute_reply": "2024-05-13T19:53:14.616940Z"
        },
        "papermill": {
          "duration": 0.120971,
          "end_time": "2024-05-13T19:53:14.621007",
          "exception": false,
          "start_time": "2024-05-13T19:53:14.500036",
          "status": "completed"
        },
        "tags": [],
        "id": "f360eebd"
      },
      "outputs": [],
      "source": [
        "display(data)"
      ]
    },
    {
      "cell_type": "code",
      "execution_count": null,
      "id": "9b34a4f9",
      "metadata": {
        "execution": {
          "iopub.execute_input": "2024-05-13T19:53:14.629225Z",
          "iopub.status.busy": "2024-05-13T19:53:14.628859Z",
          "iopub.status.idle": "2024-05-13T19:53:26.962860Z",
          "shell.execute_reply": "2024-05-13T19:53:26.961672Z"
        },
        "papermill": {
          "duration": 12.341354,
          "end_time": "2024-05-13T19:53:26.965577",
          "exception": false,
          "start_time": "2024-05-13T19:53:14.624223",
          "status": "completed"
        },
        "tags": [],
        "id": "9b34a4f9"
      },
      "outputs": [],
      "source": [
        "cmap = {'0': 'red', '1': 'black'}\n",
        "data.plot(x='Time', y='Amount', kind='scatter',\n",
        "        c=[cmap.get(c, 'black') for c in data.Class])"
      ]
    },
    {
      "cell_type": "code",
      "execution_count": null,
      "id": "b09ed8c9",
      "metadata": {
        "papermill": {
          "duration": 0.003414,
          "end_time": "2024-05-13T19:53:26.972808",
          "exception": false,
          "start_time": "2024-05-13T19:53:26.969394",
          "status": "completed"
        },
        "tags": [],
        "id": "b09ed8c9"
      },
      "outputs": [],
      "source": []
    }
  ],
  "metadata": {
    "kaggle": {
      "accelerator": "none",
      "dataSources": [
        {
          "datasetId": 310,
          "sourceId": 23498,
          "sourceType": "datasetVersion"
        }
      ],
      "dockerImageVersionId": 30698,
      "isGpuEnabled": false,
      "isInternetEnabled": false,
      "language": "python",
      "sourceType": "notebook"
    },
    "kernelspec": {
      "display_name": "Python 3",
      "language": "python",
      "name": "python3"
    },
    "language_info": {
      "codemirror_mode": {
        "name": "ipython",
        "version": 3
      },
      "file_extension": ".py",
      "mimetype": "text/x-python",
      "name": "python",
      "nbconvert_exporter": "python",
      "pygments_lexer": "ipython3",
      "version": "3.10.13"
    },
    "papermill": {
      "default_parameters": {},
      "duration": 22.318411,
      "end_time": "2024-05-13T19:53:27.598106",
      "environment_variables": {},
      "exception": null,
      "input_path": "__notebook__.ipynb",
      "output_path": "__notebook__.ipynb",
      "parameters": {},
      "start_time": "2024-05-13T19:53:05.279695",
      "version": "2.5.0"
    },
    "colab": {
      "provenance": []
    }
  },
  "nbformat": 4,
  "nbformat_minor": 5
}